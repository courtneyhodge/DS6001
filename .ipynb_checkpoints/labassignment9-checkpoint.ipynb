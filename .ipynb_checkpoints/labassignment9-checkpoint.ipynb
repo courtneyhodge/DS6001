{
 "cells": [
  {
   "cell_type": "markdown",
   "id": "b81a2a64-4925-49af-8b6a-e16d22886d42",
   "metadata": {},
   "source": [
    "# Lab Assignment 9: Data Management Using `pandas`, Part 2\n",
    "## DS 6001: Practice and Application of Data Science\n",
    "\n",
    "### Instructions\n",
    "Please answer the following questions as completely as possible using text, code, and the results of code as needed. Format your answers in a Jupyter notebook. To receive full credit, make sure you address every part of the problem, and make sure your document is formatted in a clean and professional way.\n",
    "\n",
    "In this lab, we are going to build the Country Analysis Relational DataBase (which we will call the C.A.R.D.B. or the \"Cardi B\"):\n",
    "\n",
    "![CardbiB](https://media.giphy.com/media/3oEjI5ry4IwZ3RDw6k/giphy.gif \"cardib\")\n",
    "\n",
    "We will be collecting data from two sources. First, we will use open data from the World Bank's [Sovereign\n",
    "Environmental, Social, and Governance (ESG) Data](https://datatopics.worldbank.org/esg/) project. The ESG data reports data from every country in the world over the time frame from 1960-2022 on a wide variety of topics including education, health, and economic factors within the countries. Second, we will use data on the quality and democratic character of countries' governments as reported by the [Varieties of Democracy (V-Dem)](https://www.v-dem.net/data/the-v-dem-dataset/) project at the University of Notre Dame. By using both data sources, we can conduct analyses to see whether democratic openness leads to better societal outcomes for countries. We can also write queries to capture a wide range of information on countries' political parties, tax systems, and banking industries, for example. Or as Cardi B would say, \"You in the club just to party, I'm there, I get paid a fee. I be in and out them banks so much, I know they're tired of me.\""
   ]
  },
  {
   "cell_type": "markdown",
   "id": "a7e355f6-e34e-4f1a-b508-2868b663684e",
   "metadata": {},
   "source": [
    "## Problem 0\n",
    "Import the following packages (use `pip install` to download any packages you don't already have installed):"
   ]
  },
  {
   "cell_type": "code",
   "execution_count": 1,
   "id": "74eb3c5d-acc5-41e9-9d74-294aea722663",
   "metadata": {},
   "outputs": [],
   "source": [
    "import numpy as np\n",
    "import pandas as pd\n",
    "import requests\n",
    "import os\n",
    "import io\n",
    "import zipfile"
   ]
  },
  {
   "cell_type": "markdown",
   "id": "679d2a2a-e8c7-4037-8417-4ddd06d95c7f",
   "metadata": {},
   "source": [
    "Both the World Bank and V-Dem store their data in zipped directories containing CSV files. Download the World Bank data into your current working directory by typing the following code:"
   ]
  },
  {
   "cell_type": "code",
   "execution_count": 2,
   "id": "244f87dc-e5ce-4194-bfba-aa54c4021260",
   "metadata": {},
   "outputs": [],
   "source": [
    "url = 'https://databank.worldbank.org/data/download/ESG_CSV.zip'\n",
    "r = requests.get(url)\n",
    "z = zipfile.ZipFile(io.BytesIO(r.content))\n",
    "z.extractall()"
   ]
  },
  {
   "cell_type": "markdown",
   "id": "523cb7da-502d-4126-99fa-06ffecaaf329",
   "metadata": {},
   "source": [
    "And download the V-Dem data by typing:"
   ]
  },
  {
   "cell_type": "code",
   "execution_count": 3,
   "id": "bb2aa3be-c0a9-4b42-8972-871befedeb63",
   "metadata": {},
   "outputs": [],
   "source": [
    "url = 'https://v-dem.net/media/datasets/V-Dem-CY-Core_csv_v13.zip'\n",
    "r = requests.get(url)\n",
    "z = zipfile.ZipFile(io.BytesIO(r.content))\n",
    "z.extractall()"
   ]
  },
  {
   "cell_type": "markdown",
   "id": "1c0df91e-2af6-4173-bb3f-7f737abaac9d",
   "metadata": {},
   "source": [
    "After you've run this code successfully once, the files you need will be in your working directory and you should save time by switching these cells from \"code\" to \"raw\" so that they don't run again if you restart the kernel.\n",
    "\n",
    "You will only need three of the files you've downloaded. Load the 'V-Dem-CY-Core-v13.csv' file as `vdem` and the 'ESGData.csv' file as `wb`. "
   ]
  },
  {
   "cell_type": "code",
   "execution_count": 5,
   "id": "430e7b38-3bdf-4309-9319-5a3a4135d8cc",
   "metadata": {},
   "outputs": [],
   "source": [
    "vdem = pd.read_csv('V-Dem-CY-Core-v13.csv')\n",
    "wb = pd.read_csv('ESGCSV.csv')"
   ]
  },
  {
   "cell_type": "markdown",
   "id": "acae6c4a-186b-49c1-ae9f-a69ba05e74fd",
   "metadata": {},
   "source": [
    "## Problem 1\n",
    "First, let's focus on the `vdem` data ('V-Dem-CY-Core-v13.csv'). Use `pandas` methods to perform the following tasks:\n",
    "\n",
    "### Part a\n",
    "Keep only the 'country_text_id', 'country_name','year', 'v2x_polyarchy', and 'v2peedueq' columns. [1 point]"
   ]
  },
  {
   "cell_type": "markdown",
   "id": "8f370af0-2406-4d3d-8b82-ab22d227724c",
   "metadata": {},
   "source": [
    "### Part b\n",
    "Use the `.query()` method to keep only the rows in which year is greater than or equal to 1960 and less than or equal to 2021. [1 point]"
   ]
  },
  {
   "cell_type": "markdown",
   "id": "59466ba9-cf2c-4967-aa2c-872e13f2c927",
   "metadata": {},
   "source": [
    "### Part c\n",
    "Rename 'country_text_id' to 'country_code', 'country_name' to 'country_name_vdem', 'v2x_polyarchy' to 'democracy', and 'v2peedueq' to 'educational_equality'. [1 point]"
   ]
  },
  {
   "cell_type": "markdown",
   "id": "7e4d07fd-fc4a-40eb-b2e6-9bf317ffe508",
   "metadata": {},
   "source": [
    "### Part d\n",
    "Sort the rows by 'country_code' and 'year' in ascending order. [1 point]"
   ]
  },
  {
   "cell_type": "markdown",
   "id": "cb305e65-29d8-4ff8-a0d1-9490e793ca69",
   "metadata": {},
   "source": [
    "## Problem 2\n",
    "Next focus on the World Bank `wb` dataset 'ESGData.csv'. Use `pandas` methods to perform the following tasks:\n",
    "\n",
    "### Part a\n",
    "Keep only the columns named 'Country Code', 'Country Name', and 'Indicator Code', or begin with '19' or '20'. (Don't type in all the years individually. Instead, use code that finds all columns that begin '19' or '20'.) [1 point]"
   ]
  },
  {
   "cell_type": "markdown",
   "id": "ad723ded-dc2d-4ec8-8de2-fadb712f1868",
   "metadata": {},
   "source": [
    "### Part b\n",
    "Rename 'Country Code' to'country_code', 'Country Name' to 'country_name_wb', and 'Indicator Code' to 'feature'. [1 point]"
   ]
  },
  {
   "cell_type": "markdown",
   "id": "ef344bcc-99c4-4f57-8d2d-57d599a83a64",
   "metadata": {},
   "source": [
    "### Part c\n",
    "Use the `.query()` method to remove the rows in which 'country_name_wb' is equal to one of the entries in the folowing `noncountries` list: [1 point]"
   ]
  },
  {
   "cell_type": "code",
   "execution_count": 11,
   "id": "5644672e-3233-476e-ab40-fb62ee0aa32e",
   "metadata": {},
   "outputs": [],
   "source": [
    "noncountries = [\"Arab World\", \"Central Europe and the Baltics\",\n",
    "                \"Caribbean small states\",\n",
    "                \"East Asia & Pacific (excluding high income)\",\n",
    "                \"Early-demographic dividend\",\"East Asia & Pacific\",\n",
    "                \"Europe & Central Asia (excluding high income)\",\n",
    "                \"Europe & Central Asia\", \"Euro area\",\n",
    "                \"European Union\",\"Fragile and conflict affected situations\",\n",
    "                \"High income\",\n",
    "                \"Heavily indebted poor countries (HIPC)\",\"IBRD only\",\n",
    "                \"IDA & IBRD total\",\n",
    "                \"IDA total\",\"IDA blend\",\"IDA only\",\n",
    "                \"Latin America & Caribbean (excluding high income)\",\n",
    "                \"Latin America & Caribbean\",\n",
    "                \"Least developed countries: UN classification\",\n",
    "                \"Low income\",\"Lower middle income\",\"Low & middle income\",\n",
    "                \"Late-demographic dividend\",\"Middle East & North Africa\",\n",
    "                \"Middle income\",\n",
    "                \"Middle East & North Africa (excluding high income)\",\n",
    "                \"North America\",\"OECD members\",\n",
    "                \"Other small states\",\"Pre-demographic dividend\",\n",
    "                \"Pacific island small states\",\n",
    "                \"Post-demographic dividend\",\n",
    "                \"Sub-Saharan Africa (excluding high income)\",\n",
    "                \"Sub-Saharan Africa\",\n",
    "                \"Small states\",\"East Asia & Pacific (IDA & IBRD)\",\n",
    "                \"Europe & Central Asia (IDA & IBRD)\",\n",
    "                \"Latin America & Caribbean (IDA & IBRD)\",\n",
    "                \"Middle East & North Africa (IDA & IBRD)\",\"South Asia\",\n",
    "                \"South Asia (IDA & IBRD)\",\n",
    "                \"Sub-Saharan Africa (IDA & IBRD)\",\n",
    "                \"Upper middle income\", \"World\"]"
   ]
  },
  {
   "cell_type": "markdown",
   "id": "701ccee4-57e2-43c9-ac4c-67a9df3bca7f",
   "metadata": {},
   "source": [
    "### Part d\n",
    "The features in this dataset are given strange and incomprehensible codes such as 'EG.CFT.ACCS.ZS'. Use the `replace_map` dictionary, defined below, to recode all of these values with more descriptive names for each feature. [1 point]"
   ]
  },
  {
   "cell_type": "code",
   "execution_count": 13,
   "id": "fa936fc6-ba1b-496a-a48f-e9bc354b1a1f",
   "metadata": {},
   "outputs": [],
   "source": [
    "replace_map = {\n",
    "  \"AG.LND.AGRI.ZS\": \"agricultural_land\",\n",
    "  \"AG.LND.FRST.ZS\": \"forest_area\",\n",
    "  \"AG.PRD.FOOD.XD\": \"food_production_index\",\n",
    "  \"CC.EST\": \"control_of_corruption\",\n",
    "  \"EG.CFT.ACCS.ZS\": \"access_to_clean_fuels_and_technologies_for_cooking\",\n",
    "  \"EG.EGY.PRIM.PP.KD\": \"energy_intensity_level_of_primary_energy\",\n",
    "  \"EG.ELC.ACCS.ZS\": \"access_to_electricity\",\n",
    "  \"EG.ELC.COAL.ZS\": \"electricity_production_from_coal_sources\",\n",
    "  \"EG.ELC.RNEW.ZS\": \"renewable_electricity_output\",\n",
    "  \"EG.FEC.RNEW.ZS\": \"renewable_energy_consumption\",\n",
    "  \"EG.IMP.CONS.ZS\": \"energy_imports\",\n",
    "  \"EG.USE.COMM.FO.ZS\": \"fossil_fuel_energy_consumption\",\n",
    "  \"EG.USE.PCAP.KG.OE\": \"energy_use\",\n",
    "  \"EN.ATM.CO2E.PC\": \"co2_emissions\",\n",
    "  \"EN.ATM.METH.PC\": \"methane_emissions\",\n",
    "  \"EN.ATM.NOXE.PC\": \"nitrous_oxide_emissions\",\n",
    "  \"EN.ATM.PM25.MC.M3\": \"pm2_5_air_pollution\",\n",
    "  \"EN.CLC.CDDY.XD\": \"cooling_degree_days\",\n",
    "  \"EN.CLC.GHGR.MT.CE\": \"ghg_net_emissions\",\n",
    "  \"EN.CLC.HEAT.XD\": \"heat_index_35\",\n",
    "  \"EN.CLC.MDAT.ZS\": \"droughts\",\n",
    "  \"EN.CLC.PRCP.XD\": \"maximum_5-day_rainfall\",\n",
    "  \"EN.CLC.SPEI.XD\": \"mean_drought_index\",\n",
    "  \"EN.MAM.THRD.NO\": \"mammal_species\",\n",
    "  \"EN.POP.DNST\": \"population_density\",\n",
    "  \"ER.H2O.FWTL.ZS\": \"annual_freshwater_withdrawals\",\n",
    "  \"ER.PTD.TOTL.ZS\": \"terrestrial_and_marine_protected_areas\",\n",
    "  \"GB.XPD.RSDV.GD.ZS\": \"research_and_development_expenditure\",\n",
    "  \"GE.EST\": \"government_effectiveness\",\n",
    "  \"IC.BUS.EASE.XQ\": \"ease_of_doing_business_rank\",\n",
    "  \"IC.LGL.CRED.XQ\": \"strength_of_legal_rights_index\",\n",
    "  \"IP.JRN.ARTC.SC\": \"scientific_and_technical_journal_articles\",\n",
    "  \"IP.PAT.RESD\": \"patent_applications\",\n",
    "  \"IT.NET.USER.ZS\": \"individuals_using_the_internet\",\n",
    "  \"NV.AGR.TOTL.ZS\": \"agriculture\",\n",
    "  \"NY.ADJ.DFOR.GN.ZS\": \"net_forest_depletion\",\n",
    "  \"NY.ADJ.DRES.GN.ZS\": \"natural_resources_depletion\",\n",
    "  \"NY.GDP.MKTP.KD.ZG\": \"gdp_growth\",\n",
    "  \"PV.EST\": \"political_stability_and_absence_of_violence\",\n",
    "  \"RL.EST\": \"rule_of_law\",\n",
    "  \"RQ.EST\": \"regulatory_quality\",\n",
    "  \"SE.ADT.LITR.ZS\": \"literacy_rate\",\n",
    "  \"SE.ENR.PRSC.FM.ZS\": \"gross_school_enrollment\",\n",
    "  \"SE.PRM.ENRR\": \"primary_school_enrollment\",\n",
    "  \"SE.XPD.TOTL.GB.ZS\": \"government_expenditure_on_education\",\n",
    "  \"SG.GEN.PARL.ZS\": \"proportion_of_seats_held_by_women_in_national_parliaments\",\n",
    "  \"SH.DTH.COMM.ZS\": \"cause_of_death\",\n",
    "  \"SH.DYN.MORT\": \"mortality_rate\",\n",
    "  \"SH.H2O.SMDW.ZS\": \"people_using_safely_managed_drinking_water_services\",\n",
    "  \"SH.MED.BEDS.ZS\": \"hospital_beds\",\n",
    "  \"SH.STA.OWAD.ZS\": \"prevalence_of_overweight\",\n",
    "  \"SH.STA.SMSS.ZS\": \"people_using_safely_managed_sanitation_services\",\n",
    "  \"SI.DST.FRST.20\": \"income_share_held_by_lowest_20pct\",\n",
    "  \"SI.POV.GINI\": \"gini_index\",\n",
    "  \"SI.POV.NAHC\": \"poverty_headcount_ratio_at_national_poverty_lines\",\n",
    "  \"SI.SPR.PCAP.ZG\": \"annualized_average_growth_rate_in_per_capita_real_survey_mean_consumption_or_income\",\n",
    "  \"SL.TLF.0714.ZS\": \"children_in_employment\",\n",
    "  \"SL.TLF.ACTI.ZS\": \"labor_force_participation_rate\",\n",
    "  \"SL.TLF.CACT.FM.ZS\": \"ratio_of_female_to_male_labor_force_participation_rate\",\n",
    "  \"SL.UEM.TOTL.ZS\": \"unemployment\",\n",
    "  \"SM.POP.NETM\": \"net_migration\",\n",
    "  \"SN.ITK.DEFC.ZS\": \"prevalence_of_undernourishment\",\n",
    "  \"SP.DYN.LE00.IN\": \"life_expectancy_at_birth\",\n",
    "  \"SP.DYN.TFRT.IN\": \"fertility_rate\",\n",
    "  \"SP.POP.65UP.TO.ZS\": \"population_ages_65_and_above\",\n",
    "  \"SP.UWT.TFRT\": \"unmet_need_for_contraception\",\n",
    "  \"VA.EST\": \"voice_and_accountability\",\n",
    "  \"EN.CLC.CSTP.ZS\": \"coastal_protection\",\n",
    "  \"SD.ESR.PERF.XQ\": \"economic_and_social_rights_performance_score\",\n",
    "  \"EN.CLC.HDDY.XD\": \"heating_degree_days\",\n",
    "  \"EN.LND.LTMP.DC\": \"land_surface_temperature\",\n",
    "  \"ER.H2O.FWST.ZS\": \"freshwater_withdrawal\",\n",
    "  \"EN.H2O.BDYS.ZS\": \"water_quality\",\n",
    "  \"AG.LND.FRLS.HA\": \"tree_cover_loss\",\n",
    "}\n"
   ]
  },
  {
   "cell_type": "markdown",
   "id": "ba2e8746-0dd7-47c1-abd4-272d7f661a9e",
   "metadata": {},
   "source": [
    "## Problem 3\n",
    "The `wb` dataset is strangely organized. The features are stored in the rows, when typically we would want these features to be columns. Also, years are stored in columns, when typically we would want years to be represented by different rows. We can repair this structure by reshaping the data. \n",
    "\n",
    "### Part a\n",
    "First, reshape the data to turn the columns that refer to years into rows. [1 point]"
   ]
  },
  {
   "cell_type": "markdown",
   "id": "5ce6b030-1e2c-4219-9f3d-3cdde3927d72",
   "metadata": {},
   "source": [
    "### Part b\n",
    "Then rename `variable` to `year`, and reshape the data again by turning the rows that refer to features into columns. [1 point]"
   ]
  },
  {
   "cell_type": "markdown",
   "id": "b17bb55c-1406-4385-bfd0-67528c4efc36",
   "metadata": {},
   "source": [
    "### Part c\n",
    "After these reshapes, the year column in the `wb` data frame is stored as a string. Convert this column to an integer data type. [1 point] "
   ]
  },
  {
   "cell_type": "markdown",
   "id": "5c0b0445-30be-46db-9c1c-8265ba0906bd",
   "metadata": {},
   "source": [
    "## Problem 4\n",
    "Next we will merge the `wb` data frame with the `vdem` data frame, matching on the 'country_code' and 'year' columns. \n",
    "\n",
    "### Part a\n",
    "First, write a sentence stating whether you expect this merge to be one-to-one, many-to-one, one-to-many, or many-to-many, and describe your rationale. [1 point]"
   ]
  },
  {
   "cell_type": "markdown",
   "id": "831c216e-9b3c-47b5-bfa0-b414c9f7f186",
   "metadata": {},
   "source": [
    "### Part b\n",
    "Next, merge the two datasets together in a way that checks whether your expectation is met, and also allows you to see the rows that failed to match. [2 points]"
   ]
  },
  {
   "cell_type": "markdown",
   "id": "b40fc19d-a481-4206-b222-ca29afe402bc",
   "metadata": {},
   "source": [
    "### Part c\n",
    "After this merge, use the `.value_counts()` method to see the total number of observations that were found in both datasets, the number found only in the left dataset, and the number found only in the right dataset. (If you entered the `wb` data frame into the merge function first, then \"left_only\" refers to the rows found in the World Bank but not V-Dem, and \"right_only\" refers to the rows found in V-Dem but not the World Bank.) There should be more than 9000 rows that matched, but more than 2000 that failed to match.\n",
    "\n",
    "Then conduct two data aggregations to help us investigate why these observations did not match:\n",
    "\n",
    "* First use `.query()` to keep only the observations that were present in `wb` but not `vdem`. (These are the 'left_only' observations if you typed the World Bank data into the merge function first.) Use `.groupby()` to aggregate the data by both 'country_code' and 'country_name_wb'. Then save the minimum and maximum values of 'year' for each country.\n",
    "\n",
    "* Then use `.query()` to keep only the observations that were present in `vdem` data but not `wb`. Use `.groupby()` to aggregate the data by both 'country_code' and 'country_name_vdem'. Then save the minimum and maximum values of 'year' for each country. [2 points]"
   ]
  },
  {
   "cell_type": "markdown",
   "id": "90266aee-2d92-4e9c-8a97-902236fb4d2f",
   "metadata": {},
   "source": [
    "### Part d\n",
    "Here's where a deep understanding of the data becomes very important. There are two reasons why an observation may fail to match in a merge. One reason is a difference in spelling. Suppose that South Korea (which is also known as the Republic of Korea) is coded as SKO in the World Bank data and ROK in V-Dem. In this case, we should recode one or the other of SKO and ROK so that they match, otherwise we will lose the data on South Korea. But the second reason why observations might fail to match is due to differences in coverage in the data collection strategy: it is possible that a country wasn't included in one data's coverage, or that certain years for that country were not included. For differences in coverage, there's no way to manipulate the data to match, so we are out of luck and we have to either delete these observations or proceed with missing data from one of the data sources.\n",
    "\n",
    "Take a close look at the two data aggregation tables you generated in part (j), and answer the following questions:\n",
    "\n",
    "* Do you see any countries that are present in both the unmatched World Bank rows and the unmatched V-Dem rows, but with different spellings?\n",
    "\n",
    "* Do some digging on Wikipedia and other sources on the Internet. What do you think is the primary reason why some countries are present in the V-Dem data but not the World Bank? (You don't need to describe the reasoning for every country. Just dig until you see a general pattern and describe it here.)\n",
    "\n",
    "* Do some more digging on Wikipedia and other sources on the Internet. What do you think is the primary reason why some countries are present in the World Bank data but not V-Dem? (You don't need to describe the reasoning for every country. Just dig until you see a general pattern and describe it here.) [1 point]"
   ]
  },
  {
   "cell_type": "markdown",
   "id": "31941414-8323-4699-99e0-c3530da3fc43",
   "metadata": {},
   "source": [
    "### Part e\n",
    "Once you are convinced that all of the unmatched observations are due to differences in the coverage of the data collection strategies of the World Bank and V-Dem, repeat the merge, dropping all unmatched observations. This time there is no need to validate the type of merge, and no need to define a variable to indicate matching. [1 point]"
   ]
  },
  {
   "cell_type": "markdown",
   "id": "0b08bb56-41ee-466c-b90e-ae4063452184",
   "metadata": {},
   "source": [
    "## Problem 5\n",
    "Write code using `pandas` that answers the next two questions:\n",
    "\n",
    "### Part a\n",
    "Of all countries in the data, which countries have the highest and lowest average levels of democratic quality across the 1960-2022 timespan? [1 point]"
   ]
  },
  {
   "cell_type": "markdown",
   "id": "0372273f-0a67-4238-b250-69ab3a982b2c",
   "metadata": {},
   "source": [
    "### Part b\n",
    "The 'educational_equality' index compiled by V-Dem measures the extent to which \"high quality basic education guaranteed to all, sufficient to enable them to exercise their basic rights as adult citizens.\" They use a Bayesian scaling method to create a score for each country in each year that ranges roughly from -4 to 4, where low values of the scale mean that\n",
    "> Provision of high quality basic education is extremely unequal and at least 75 percent (%) of children receive such low-quality education that undermines their ability to exercise their basic rights as adult citizens.\n",
    "\n",
    "And high values mean that\n",
    "> Basic education is equal in quality and less than five percent (%) of children receive such low-quality education that probably undermines their ability to exercise their basic rights as adult citizens.\n",
    "\n",
    "Use the `pd.cut()` method to create a categorical version of 'educational_equality' with five categories, one from -4 to -2 called \"extremely unequal\", one from -2 to -.5 called \"very unequal\", one from -.5 to .5 called \"somewhat unequal\", one from .5 to 1.5 called \"relatively equal\", and one for values from 1.5 to 4 called \"equal\". (By default, the `pd.cut()` method sets `right=True`, which means the bins include their rightmost edges, so a value of exactly -2 will fall within the \"extremely unequal\" bin. Leave this default in place.)\n",
    "\n",
    "Then aggregate the data to have one row per category of the new categorical version of \"educational_equality\". Collapse the following features to the mean with each category of \"educational_equality\":\n",
    "\n",
    "* 'gini_index': The GINI index measures the amount of economic inequality in a country. The higher the index, the greater the economic disparity between rich and poor.\n",
    "* 'poverty_headcount_ratio_at_national_poverty_lines': a measure of the proportion of the population living in poverty [1 point]\n",
    "  "
   ]
  }
 ],
 "metadata": {
  "kernelspec": {
   "display_name": "Python 3 (ipykernel)",
   "language": "python",
   "name": "python3"
  },
  "language_info": {
   "codemirror_mode": {
    "name": "ipython",
    "version": 3
   },
   "file_extension": ".py",
   "mimetype": "text/x-python",
   "name": "python",
   "nbconvert_exporter": "python",
   "pygments_lexer": "ipython3",
   "version": "3.11.7"
  }
 },
 "nbformat": 4,
 "nbformat_minor": 5
}
